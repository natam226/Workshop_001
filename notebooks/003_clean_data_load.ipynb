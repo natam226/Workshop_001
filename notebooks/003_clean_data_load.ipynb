{
 "cells": [
  {
   "cell_type": "code",
   "execution_count": 1,
   "metadata": {},
   "outputs": [],
   "source": [
    "import os\n",
    "import json\n",
    "import pandas as pd\n",
    "from sqlalchemy import create_engine"
   ]
  },
  {
   "cell_type": "code",
   "execution_count": 2,
   "metadata": {},
   "outputs": [
    {
     "name": "stdout",
     "output_type": "stream",
     "text": [
      "c:\\Users\\natym\\Desktop\n"
     ]
    }
   ],
   "source": [
    "try:\n",
    "    os.chdir(\"../../Workshop_001\")\n",
    "except FileNotFoundError:\n",
    "    print(\"\"\"\n",
    "        FileNotFoundError - Puede que el directorio no exista o no estas ubicad@ en la ruta especificada.\n",
    "        \"\"\")\n",
    "os.chdir(\"..\")\n",
    "print(os.getcwd())"
   ]
  },
  {
   "cell_type": "code",
   "execution_count": 3,
   "metadata": {},
   "outputs": [],
   "source": [
    "with open(\"Workshop_001/credentials.json\", \"r\", encoding = \"utf-8\") as f:\n",
    "    credentials = json.load(f)\n",
    "\n",
    "db_host = credentials[\"db_host\"]\n",
    "db_name = credentials[\"db_name\"]\n",
    "db_user = credentials[\"db_user\"]\n",
    "db_password = credentials[\"db_password\"]\n",
    "\n",
    "engine = create_engine(f\"postgresql://{db_user}:{db_password}@{db_host}:5432/{db_name}\")"
   ]
  },
  {
   "cell_type": "code",
   "execution_count": 4,
   "metadata": {},
   "outputs": [
    {
     "data": {
      "text/html": [
       "<div>\n",
       "<style scoped>\n",
       "    .dataframe tbody tr th:only-of-type {\n",
       "        vertical-align: middle;\n",
       "    }\n",
       "\n",
       "    .dataframe tbody tr th {\n",
       "        vertical-align: top;\n",
       "    }\n",
       "\n",
       "    .dataframe thead th {\n",
       "        text-align: right;\n",
       "    }\n",
       "</style>\n",
       "<table border=\"1\" class=\"dataframe\">\n",
       "  <thead>\n",
       "    <tr style=\"text-align: right;\">\n",
       "      <th></th>\n",
       "      <th>First Name</th>\n",
       "      <th>Last Name</th>\n",
       "      <th>Email</th>\n",
       "      <th>Application Date</th>\n",
       "      <th>Country</th>\n",
       "      <th>YOE</th>\n",
       "      <th>Seniority</th>\n",
       "      <th>Technology</th>\n",
       "      <th>Code Challenge Score</th>\n",
       "      <th>Technical Interview Score</th>\n",
       "    </tr>\n",
       "  </thead>\n",
       "  <tbody>\n",
       "    <tr>\n",
       "      <th>0</th>\n",
       "      <td>Bernadette</td>\n",
       "      <td>Langworth</td>\n",
       "      <td>leonard91@yahoo.com</td>\n",
       "      <td>26/02/2021</td>\n",
       "      <td>Norway</td>\n",
       "      <td>2</td>\n",
       "      <td>Intern</td>\n",
       "      <td>Data Engineer</td>\n",
       "      <td>3</td>\n",
       "      <td>3</td>\n",
       "    </tr>\n",
       "    <tr>\n",
       "      <th>1</th>\n",
       "      <td>Camryn</td>\n",
       "      <td>Reynolds</td>\n",
       "      <td>zelda56@hotmail.com</td>\n",
       "      <td>9/09/2021</td>\n",
       "      <td>Panama</td>\n",
       "      <td>10</td>\n",
       "      <td>Intern</td>\n",
       "      <td>Data Engineer</td>\n",
       "      <td>2</td>\n",
       "      <td>10</td>\n",
       "    </tr>\n",
       "    <tr>\n",
       "      <th>2</th>\n",
       "      <td>Larue</td>\n",
       "      <td>Spinka</td>\n",
       "      <td>okey_schultz41@gmail.com</td>\n",
       "      <td>14/04/2020</td>\n",
       "      <td>Belarus</td>\n",
       "      <td>4</td>\n",
       "      <td>Mid-Level</td>\n",
       "      <td>Client Success</td>\n",
       "      <td>10</td>\n",
       "      <td>9</td>\n",
       "    </tr>\n",
       "    <tr>\n",
       "      <th>3</th>\n",
       "      <td>Arch</td>\n",
       "      <td>Spinka</td>\n",
       "      <td>elvera_kulas@yahoo.com</td>\n",
       "      <td>1/10/2020</td>\n",
       "      <td>Eritrea</td>\n",
       "      <td>25</td>\n",
       "      <td>Trainee</td>\n",
       "      <td>QA Manual</td>\n",
       "      <td>7</td>\n",
       "      <td>1</td>\n",
       "    </tr>\n",
       "    <tr>\n",
       "      <th>4</th>\n",
       "      <td>Larue</td>\n",
       "      <td>Altenwerth</td>\n",
       "      <td>minnie.gislason@gmail.com</td>\n",
       "      <td>20/05/2020</td>\n",
       "      <td>Myanmar</td>\n",
       "      <td>13</td>\n",
       "      <td>Mid-Level</td>\n",
       "      <td>Social Media Community Management</td>\n",
       "      <td>9</td>\n",
       "      <td>7</td>\n",
       "    </tr>\n",
       "  </tbody>\n",
       "</table>\n",
       "</div>"
      ],
      "text/plain": [
       "   First Name   Last Name                      Email Application Date  \\\n",
       "0  Bernadette   Langworth        leonard91@yahoo.com       26/02/2021   \n",
       "1      Camryn    Reynolds        zelda56@hotmail.com        9/09/2021   \n",
       "2       Larue      Spinka   okey_schultz41@gmail.com       14/04/2020   \n",
       "3        Arch      Spinka     elvera_kulas@yahoo.com        1/10/2020   \n",
       "4       Larue  Altenwerth  minnie.gislason@gmail.com       20/05/2020   \n",
       "\n",
       "   Country  YOE  Seniority                         Technology  \\\n",
       "0   Norway    2     Intern                      Data Engineer   \n",
       "1   Panama   10     Intern                      Data Engineer   \n",
       "2  Belarus    4  Mid-Level                     Client Success   \n",
       "3  Eritrea   25    Trainee                          QA Manual   \n",
       "4  Myanmar   13  Mid-Level  Social Media Community Management   \n",
       "\n",
       "   Code Challenge Score  Technical Interview Score  \n",
       "0                     3                          3  \n",
       "1                     2                         10  \n",
       "2                    10                          9  \n",
       "3                     7                          1  \n",
       "4                     9                          7  "
      ]
     },
     "execution_count": 4,
     "metadata": {},
     "output_type": "execute_result"
    }
   ],
   "source": [
    "query = \"SELECT * FROM candidates_raw_data;\"\n",
    "candidates_df = pd.read_sql(query, engine)\n",
    "candidates_df.head()"
   ]
  },
  {
   "cell_type": "code",
   "execution_count": 5,
   "metadata": {},
   "outputs": [],
   "source": [
    "renamed_columns = {\n",
    "    'First Name': 'first_name',\n",
    "    'Last Name': 'last_name',\n",
    "    'Email': 'email',\n",
    "    'Application Date': 'application_date',\n",
    "    'Country': 'country',\n",
    "    'YOE': 'yoe',\n",
    "    'Seniority': 'seniority',\n",
    "    'Technology': 'technology',\n",
    "    'Code Challenge Score': 'code_challenge_score',\n",
    "    'Technical Interview Score': 'technical_interview_score'\n",
    "}\n",
    "\n",
    "candidates_df = candidates_df.rename(columns=renamed_columns)"
   ]
  },
  {
   "cell_type": "code",
   "execution_count": 6,
   "metadata": {},
   "outputs": [
    {
     "name": "stderr",
     "output_type": "stream",
     "text": [
      "C:\\Users\\natym\\AppData\\Local\\Temp\\ipykernel_11020\\2449633209.py:1: UserWarning: Parsing dates in %d/%m/%Y format when dayfirst=False (the default) was specified. Pass `dayfirst=True` or specify a format to silence this warning.\n",
      "  candidates_df['application_date'] = pd.to_datetime(candidates_df['application_date'])\n"
     ]
    },
    {
     "data": {
      "text/plain": [
       "first_name                           object\n",
       "last_name                            object\n",
       "email                                object\n",
       "application_date             datetime64[ns]\n",
       "country                              object\n",
       "yoe                                   int64\n",
       "seniority                            object\n",
       "technology                           object\n",
       "code_challenge_score                  int64\n",
       "technical_interview_score             int64\n",
       "dtype: object"
      ]
     },
     "execution_count": 6,
     "metadata": {},
     "output_type": "execute_result"
    }
   ],
   "source": [
    "candidates_df['application_date'] = pd.to_datetime(candidates_df['application_date'])\n",
    "candidates_df.dtypes"
   ]
  },
  {
   "cell_type": "code",
   "execution_count": 7,
   "metadata": {},
   "outputs": [
    {
     "name": "stdout",
     "output_type": "stream",
     "text": [
      "   first_name   last_name                      email application_date  \\\n",
      "0  Bernadette   Langworth        leonard91@yahoo.com       2021-02-26   \n",
      "1      Camryn    Reynolds        zelda56@hotmail.com       2021-09-09   \n",
      "2       Larue      Spinka   okey_schultz41@gmail.com       2020-04-14   \n",
      "3        Arch      Spinka     elvera_kulas@yahoo.com       2020-10-01   \n",
      "4       Larue  Altenwerth  minnie.gislason@gmail.com       2020-05-20   \n",
      "\n",
      "   country  yoe  seniority                         technology  \\\n",
      "0   Norway    2     Intern                      Data Engineer   \n",
      "1   Panama   10     Intern                      Data Engineer   \n",
      "2  Belarus    4  Mid-Level                     Client Success   \n",
      "3  Eritrea   25    Trainee                          QA Manual   \n",
      "4  Myanmar   13  Mid-Level  Social Media Community Management   \n",
      "\n",
      "   code_challenge_score  technical_interview_score Hired  \n",
      "0                     3                          3    No  \n",
      "1                     2                         10    No  \n",
      "2                    10                          9   Yes  \n",
      "3                     7                          1    No  \n",
      "4                     9                          7   Yes  \n"
     ]
    }
   ],
   "source": [
    "candidates_df[\"Hired\"] = (candidates_df[\"code_challenge_score\"] >= 7) & (candidates_df[\"technical_interview_score\"] >= 7)\n",
    "candidates_df[\"Hired\"] = candidates_df[\"Hired\"].map({True: \"Yes\", False: \"No\"})\n",
    "print(candidates_df.head())"
   ]
  },
  {
   "cell_type": "code",
   "execution_count": 8,
   "metadata": {},
   "outputs": [
    {
     "data": {
      "text/plain": [
       "1000"
      ]
     },
     "execution_count": 8,
     "metadata": {},
     "output_type": "execute_result"
    }
   ],
   "source": [
    "candidates_df.to_sql('candidates_clean_data', engine, if_exists='replace', index=False)"
   ]
  }
 ],
 "metadata": {
  "kernelspec": {
   "display_name": "venv",
   "language": "python",
   "name": "python3"
  },
  "language_info": {
   "codemirror_mode": {
    "name": "ipython",
    "version": 3
   },
   "file_extension": ".py",
   "mimetype": "text/x-python",
   "name": "python",
   "nbconvert_exporter": "python",
   "pygments_lexer": "ipython3",
   "version": "3.11.9"
  }
 },
 "nbformat": 4,
 "nbformat_minor": 2
}
